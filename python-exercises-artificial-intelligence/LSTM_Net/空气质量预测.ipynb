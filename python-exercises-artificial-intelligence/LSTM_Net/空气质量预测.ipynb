{
 "cells": [
  {
   "metadata": {},
   "cell_type": "markdown",
   "source": "## 数据准备",
   "id": "b0b9c0fa4d570b1b"
  },
  {
   "metadata": {
    "ExecuteTime": {
     "end_time": "2024-05-29T09:06:58.181976Z",
     "start_time": "2024-05-29T09:06:57.733810Z"
    }
   },
   "cell_type": "code",
   "source": [
    "from pandas import read_csv\n",
    "from datetime import datetime\n",
    "\n",
    "\n",
    "# 将字符串转换为datetime对象\n",
    "def parse(x):\n",
    "    return datetime.strptime(x, '%Y %m %d %H')\n",
    "\n",
    "\n",
    "# 使用read_csv函数读取'raw.csv'文件，并将其中包含'year', 'month', 'day', 'hour'的列作为日期列\n",
    "# index_col=0 表示将第一列设置为索引列\n",
    "# date_parser=parse 表示使用自定义的 parse 函数来解析日期列\n",
    "dataset = read_csv('data/空气质量预测/raw.csv', parse_dates=[['year', 'month', 'day', 'hour']], index_col=0, date_parser=parse)\n",
    "print(dataset.head(5))\n",
    "\n",
    "# 使用drop函数删除名为'No'的列，axis=1表示操作的是列，inplace=True表示原地修改\n",
    "dataset.drop('No', axis=1, inplace=True)\n",
    "print(dataset.head(5))"
   ],
   "id": "initial_id",
   "outputs": [
    {
     "name": "stderr",
     "output_type": "stream",
     "text": [
      "C:\\Users\\shey\\AppData\\Local\\Temp\\ipykernel_17880\\1880832876.py:13: FutureWarning: The argument 'date_parser' is deprecated and will be removed in a future version. Please use 'date_format' instead, or read your data in as 'object' dtype and then call 'to_datetime'.\n",
      "  dataset = read_csv('data/空气质量预测/raw.csv', parse_dates=[['year', 'month', 'day', 'hour']], index_col=0,\n"
     ]
    },
    {
     "name": "stdout",
     "output_type": "stream",
     "text": [
      "                     No  pm2.5  DEWP  TEMP    PRES cbwd    Iws  Is  Ir\n",
      "year_month_day_hour                                                   \n",
      "2010-01-01 00:00:00   1    NaN   -21 -11.0  1021.0   NW   1.79   0   0\n",
      "2010-01-01 01:00:00   2    NaN   -21 -12.0  1020.0   NW   4.92   0   0\n",
      "2010-01-01 02:00:00   3    NaN   -21 -11.0  1019.0   NW   6.71   0   0\n",
      "2010-01-01 03:00:00   4    NaN   -21 -14.0  1019.0   NW   9.84   0   0\n",
      "2010-01-01 04:00:00   5    NaN   -20 -12.0  1018.0   NW  12.97   0   0\n",
      "                     pm2.5  DEWP  TEMP    PRES cbwd    Iws  Is  Ir\n",
      "year_month_day_hour                                               \n",
      "2010-01-01 00:00:00    NaN   -21 -11.0  1021.0   NW   1.79   0   0\n",
      "2010-01-01 01:00:00    NaN   -21 -12.0  1020.0   NW   4.92   0   0\n",
      "2010-01-01 02:00:00    NaN   -21 -11.0  1019.0   NW   6.71   0   0\n",
      "2010-01-01 03:00:00    NaN   -21 -14.0  1019.0   NW   9.84   0   0\n",
      "2010-01-01 04:00:00    NaN   -20 -12.0  1018.0   NW  12.97   0   0\n"
     ]
    }
   ],
   "execution_count": 57
  },
  {
   "metadata": {
    "ExecuteTime": {
     "end_time": "2024-05-29T09:06:58.197958Z",
     "start_time": "2024-05-29T09:06:58.184957Z"
    }
   },
   "cell_type": "code",
   "source": [
    "# 手动指定列名，将列名设置为['pollution', 'dew', 'temp', 'press', 'wnd_dir', 'wnd_spd', 'snow', 'rain']\n",
    "dataset.columns = ['pollution', 'dew', 'temp', 'press', 'wnd_dir', 'wnd_spd', 'snow', 'rain']\n",
    "print(dataset.head(5))\n",
    "\n",
    "dataset.index.name = 'date'\n",
    "print(dataset.head(5))"
   ],
   "id": "2a4e3c1380706531",
   "outputs": [
    {
     "name": "stdout",
     "output_type": "stream",
     "text": [
      "                     pollution  dew  temp   press wnd_dir  wnd_spd  snow  rain\n",
      "year_month_day_hour                                                           \n",
      "2010-01-01 00:00:00        NaN  -21 -11.0  1021.0      NW     1.79     0     0\n",
      "2010-01-01 01:00:00        NaN  -21 -12.0  1020.0      NW     4.92     0     0\n",
      "2010-01-01 02:00:00        NaN  -21 -11.0  1019.0      NW     6.71     0     0\n",
      "2010-01-01 03:00:00        NaN  -21 -14.0  1019.0      NW     9.84     0     0\n",
      "2010-01-01 04:00:00        NaN  -20 -12.0  1018.0      NW    12.97     0     0\n",
      "                     pollution  dew  temp   press wnd_dir  wnd_spd  snow  rain\n",
      "date                                                                          \n",
      "2010-01-01 00:00:00        NaN  -21 -11.0  1021.0      NW     1.79     0     0\n",
      "2010-01-01 01:00:00        NaN  -21 -12.0  1020.0      NW     4.92     0     0\n",
      "2010-01-01 02:00:00        NaN  -21 -11.0  1019.0      NW     6.71     0     0\n",
      "2010-01-01 03:00:00        NaN  -21 -14.0  1019.0      NW     9.84     0     0\n",
      "2010-01-01 04:00:00        NaN  -20 -12.0  1018.0      NW    12.97     0     0\n"
     ]
    }
   ],
   "execution_count": 58
  },
  {
   "metadata": {
    "ExecuteTime": {
     "end_time": "2024-05-29T09:06:58.389006Z",
     "start_time": "2024-05-29T09:06:58.200959Z"
    }
   },
   "cell_type": "code",
   "source": [
    "# 使用fillna函数将'pollution'列中的所有NA值替换为0，inplace=True表示原地修改\n",
    "dataset['pollution'].fillna(0, inplace=True)\n",
    "print(dataset.head(5))\n",
    "\n",
    "dataset = dataset[24:]\n",
    "print(dataset.head(5))\n",
    "\n",
    "dataset.to_csv('data/空气质量预测/pollution.csv')"
   ],
   "id": "20a2347f20cbfb63",
   "outputs": [
    {
     "name": "stdout",
     "output_type": "stream",
     "text": [
      "                     pollution  dew  temp   press wnd_dir  wnd_spd  snow  rain\n",
      "date                                                                          \n",
      "2010-01-01 00:00:00        0.0  -21 -11.0  1021.0      NW     1.79     0     0\n",
      "2010-01-01 01:00:00        0.0  -21 -12.0  1020.0      NW     4.92     0     0\n",
      "2010-01-01 02:00:00        0.0  -21 -11.0  1019.0      NW     6.71     0     0\n",
      "2010-01-01 03:00:00        0.0  -21 -14.0  1019.0      NW     9.84     0     0\n",
      "2010-01-01 04:00:00        0.0  -20 -12.0  1018.0      NW    12.97     0     0\n",
      "                     pollution  dew  temp   press wnd_dir  wnd_spd  snow  rain\n",
      "date                                                                          \n",
      "2010-01-02 00:00:00      129.0  -16  -4.0  1020.0      SE     1.79     0     0\n",
      "2010-01-02 01:00:00      148.0  -15  -4.0  1020.0      SE     2.68     0     0\n",
      "2010-01-02 02:00:00      159.0  -11  -5.0  1021.0      SE     3.57     0     0\n",
      "2010-01-02 03:00:00      181.0   -7  -5.0  1022.0      SE     5.36     1     0\n",
      "2010-01-02 04:00:00      138.0   -7  -5.0  1022.0      SE     6.25     2     0\n"
     ]
    }
   ],
   "execution_count": 59
  },
  {
   "metadata": {},
   "cell_type": "markdown",
   "source": "## 数据画图显示",
   "id": "9abef730e3975315"
  },
  {
   "metadata": {
    "ExecuteTime": {
     "end_time": "2024-05-29T09:06:59.180782Z",
     "start_time": "2024-05-29T09:06:58.391041Z"
    }
   },
   "cell_type": "code",
   "source": [
    "from pandas import read_csv\n",
    "from matplotlib import pyplot\n",
    "\n",
    "dataset = read_csv('data/空气质量预测/pollution.csv', header=0, index_col=0)\n",
    "values = dataset.values\n",
    "groups = [0, 1, 2, 3, 5, 6, 7]\n",
    "\n",
    "i = 1\n",
    "pyplot.figure()  # 创建一个图形\n",
    "print(values)\n",
    "\n",
    "for group in groups:\n",
    "    pyplot.subplot(len(groups), 1, i)  # 创建一个子图\n",
    "    pyplot.plot(values[:, group])  # 绘制数据\n",
    "    pyplot.title(dataset.columns[group], y=0.5, loc='right')  # 设置标题\n",
    "    i += 1  # 更新i用来设置下一个子图\n",
    "\n",
    "pyplot.show()"
   ],
   "id": "25911482918bd669",
   "outputs": [
    {
     "name": "stdout",
     "output_type": "stream",
     "text": [
      "[[129.0 -16 -4.0 ... 1.79 0 0]\n",
      " [148.0 -15 -4.0 ... 2.68 0 0]\n",
      " [159.0 -11 -5.0 ... 3.57 0 0]\n",
      " ...\n",
      " [10.0 -22 -3.0 ... 242.7 0 0]\n",
      " [8.0 -22 -4.0 ... 246.72 0 0]\n",
      " [12.0 -21 -3.0 ... 249.85 0 0]]\n"
     ]
    },
    {
     "data": {
      "text/plain": [
       "<Figure size 640x480 with 7 Axes>"
      ],
      "image/png": "[encoded data removed]"
     },
     "metadata": {},
     "output_type": "display_data"
    }
   ],
   "execution_count": 60
  },
  {
   "metadata": {},
   "cell_type": "markdown",
   "source": "## 数据转换成监督学习数据",
   "id": "ff2a3fcbb91813c7"
  },
  {
   "metadata": {
    "ExecuteTime": {
     "end_time": "2024-05-29T09:06:59.196782Z",
     "start_time": "2024-05-29T09:06:59.183784Z"
    }
   },
   "cell_type": "code",
   "source": [
    "from pandas import read_csv\n",
    "from pandas import DataFrame\n",
    "from pandas import concat\n",
    "from sklearn.preprocessing import MinMaxScaler\n",
    "from sklearn.preprocessing import LabelEncoder\n",
    "import pandas as pd\n",
    "\n",
    "pd.set_option('display.max_columns', 1000)  # 设置显示的最大列数\n",
    "pd.set_option('display.width', 1000)  # 设置显示的最大宽度\n",
    "pd.set_option('display.max_colwidth', 1000)  # 设置显示的最大列宽"
   ],
   "id": "e88a15b4ae2887e1",
   "outputs": [],
   "execution_count": 61
  },
  {
   "metadata": {
    "ExecuteTime": {
     "end_time": "2024-05-29T09:06:59.275798Z",
     "start_time": "2024-05-29T09:06:59.198783Z"
    }
   },
   "cell_type": "code",
   "source": [
    "dataset = read_csv('data/空气质量预测/pollution.csv', header=0, index_col=0)\n",
    "values = dataset.values\n",
    "print(values)"
   ],
   "id": "5baa91074bcda2d2",
   "outputs": [
    {
     "name": "stdout",
     "output_type": "stream",
     "text": [
      "[[129.0 -16 -4.0 ... 1.79 0 0]\n",
      " [148.0 -15 -4.0 ... 2.68 0 0]\n",
      " [159.0 -11 -5.0 ... 3.57 0 0]\n",
      " ...\n",
      " [10.0 -22 -3.0 ... 242.7 0 0]\n",
      " [8.0 -22 -4.0 ... 246.72 0 0]\n",
      " [12.0 -21 -3.0 ... 249.85 0 0]]\n"
     ]
    }
   ],
   "execution_count": 62
  },
  {
   "metadata": {
    "ExecuteTime": {
     "end_time": "2024-05-29T09:06:59.307800Z",
     "start_time": "2024-05-29T09:06:59.277783Z"
    }
   },
   "cell_type": "code",
   "source": [
    "encoder = LabelEncoder()  # 创建一个LabelEncoder对象\n",
    "values[:, 4] = encoder.fit_transform(values[:, 4])  # 将'wnd_dir'列的值转换为数字\n",
    "print(values)\n",
    "print()\n",
    "values = values.astype('float32')  # 将数据转换为浮点数\n",
    "scaler = MinMaxScaler(feature_range=(0, 1))  # 创建一个MinMaxScaler对象\n",
    "scaled = scaler.fit_transform(values)  # 将数据缩放到0到1之间\n",
    "print(scaled)"
   ],
   "id": "81f8a1e6af5d898d",
   "outputs": [
    {
     "name": "stdout",
     "output_type": "stream",
     "text": [
      "[[129.0 -16 -4.0 ... 1.79 0 0]\n",
      " [148.0 -15 -4.0 ... 2.68 0 0]\n",
      " [159.0 -11 -5.0 ... 3.57 0 0]\n",
      " ...\n",
      " [10.0 -22 -3.0 ... 242.7 0 0]\n",
      " [8.0 -22 -4.0 ... 246.72 0 0]\n",
      " [12.0 -21 -3.0 ... 249.85 0 0]]\n",
      "\n",
      "[[0.12977867 0.35294122 0.24590163 ... 0.00229001 0.         0.        ]\n",
      " [0.14889336 0.36764708 0.24590163 ... 0.00381099 0.         0.        ]\n",
      " [0.15995975 0.4264706  0.22950819 ... 0.00533197 0.         0.        ]\n",
      " ...\n",
      " [0.01006036 0.2647059  0.26229507 ... 0.41399646 0.         0.        ]\n",
      " [0.00804829 0.2647059  0.24590163 ... 0.4208665  0.         0.        ]\n",
      " [0.01207243 0.2794118  0.26229507 ... 0.42621556 0.         0.        ]]\n"
     ]
    }
   ],
   "execution_count": 63
  },
  {
   "metadata": {},
   "cell_type": "markdown",
   "source": "转换成监督学习数据",
   "id": "2dd0606c94ccffa5"
  },
  {
   "metadata": {
    "ExecuteTime": {
     "end_time": "2024-05-29T09:06:59.322801Z",
     "start_time": "2024-05-29T09:06:59.309783Z"
    }
   },
   "cell_type": "code",
   "source": [
    "n_in = 1\n",
    "n_out = 1\n",
    "dropnan = True\n",
    "\n",
    "n_vars = 1 if type(scaled) is list else scaled.shape[1] # 如果scaled是一个列表，则n_vars为1，否则为scaled的列数\n",
    "df = DataFrame(scaled) # 将scaled转换为DataFrame\n",
    "print(df.head())"
   ],
   "id": "e19dd2699b5fefc2",
   "outputs": [
    {
     "name": "stdout",
     "output_type": "stream",
     "text": [
      "          0         1         2         3         4         5         6    7\n",
      "0  0.129779  0.352941  0.245902  0.527273  0.666667  0.002290  0.000000  0.0\n",
      "1  0.148893  0.367647  0.245902  0.527273  0.666667  0.003811  0.000000  0.0\n",
      "2  0.159960  0.426471  0.229508  0.545454  0.666667  0.005332  0.000000  0.0\n",
      "3  0.182093  0.485294  0.229508  0.563637  0.666667  0.008391  0.037037  0.0\n",
      "4  0.138833  0.485294  0.229508  0.563637  0.666667  0.009912  0.074074  0.0\n"
     ]
    }
   ],
   "execution_count": 64
  },
  {
   "metadata": {
    "ExecuteTime": {
     "end_time": "2024-05-29T09:06:59.338810Z",
     "start_time": "2024-05-29T09:06:59.324783Z"
    }
   },
   "cell_type": "code",
   "source": [
    "clos, names = list(), list() # 创建一个空列表clos和names\n",
    "for i in range(n_in, 0, -1): # 创建一个从n_in到0的循环\n",
    "    clos.append(df.shift(i)) # 创建一个滞后为i的DataFrame\n",
    "    print(clos)\n",
    "    names += [('var%d(t-%d)' % (j+1, i)) for j in range(n_vars)] # 创建一个名字列表"
   ],
   "id": "60b293338c64b522",
   "outputs": [
    {
     "name": "stdout",
     "output_type": "stream",
     "text": [
      "[              0         1         2         3         4         5         6    7\n",
      "0           NaN       NaN       NaN       NaN       NaN       NaN       NaN  NaN\n",
      "1      0.129779  0.352941  0.245902  0.527273  0.666667  0.002290  0.000000  0.0\n",
      "2      0.148893  0.367647  0.245902  0.527273  0.666667  0.003811  0.000000  0.0\n",
      "3      0.159960  0.426471  0.229508  0.545454  0.666667  0.005332  0.000000  0.0\n",
      "4      0.182093  0.485294  0.229508  0.563637  0.666667  0.008391  0.037037  0.0\n",
      "...         ...       ...       ...       ...       ...       ...       ...  ...\n",
      "43795  0.010060  0.264706  0.278689  0.763638  0.333333  0.385730  0.000000  0.0\n",
      "43796  0.008048  0.250000  0.278689  0.781818  0.333333  0.395659  0.000000  0.0\n",
      "43797  0.010060  0.264706  0.262295  0.781818  0.333333  0.405588  0.000000  0.0\n",
      "43798  0.010060  0.264706  0.262295  0.781818  0.333333  0.413996  0.000000  0.0\n",
      "43799  0.008048  0.264706  0.245902  0.781818  0.333333  0.420866  0.000000  0.0\n",
      "\n",
      "[43800 rows x 8 columns]]\n"
     ]
    }
   ],
   "execution_count": 65
  },
  {
   "metadata": {
    "ExecuteTime": {
     "end_time": "2024-05-29T09:06:59.370798Z",
     "start_time": "2024-05-29T09:06:59.340784Z"
    }
   },
   "cell_type": "code",
   "source": [
    "for i in range(0, n_out): # 创建一个从0到n_out的循环\n",
    "    clos.append(df.shift(-i)) # 创建一个超前为i的DataFrame\n",
    "    print(clos)\n",
    "    if i == 0:\n",
    "        names += [('var%d(t)' % (j+1)) for j in range(n_vars)] # 创建一个名字列表\n",
    "    else:\n",
    "        names += [('var%d(t+%d)' % (j+1, i)) for j in range(n_vars)] # 创建一个名字列表\n",
    "print(clos)"
   ],
   "id": "5d9eae2dd48022d8",
   "outputs": [
    {
     "name": "stdout",
     "output_type": "stream",
     "text": [
      "[              0         1         2         3         4         5         6    7\n",
      "0           NaN       NaN       NaN       NaN       NaN       NaN       NaN  NaN\n",
      "1      0.129779  0.352941  0.245902  0.527273  0.666667  0.002290  0.000000  0.0\n",
      "2      0.148893  0.367647  0.245902  0.527273  0.666667  0.003811  0.000000  0.0\n",
      "3      0.159960  0.426471  0.229508  0.545454  0.666667  0.005332  0.000000  0.0\n",
      "4      0.182093  0.485294  0.229508  0.563637  0.666667  0.008391  0.037037  0.0\n",
      "...         ...       ...       ...       ...       ...       ...       ...  ...\n",
      "43795  0.010060  0.264706  0.278689  0.763638  0.333333  0.385730  0.000000  0.0\n",
      "43796  0.008048  0.250000  0.278689  0.781818  0.333333  0.395659  0.000000  0.0\n",
      "43797  0.010060  0.264706  0.262295  0.781818  0.333333  0.405588  0.000000  0.0\n",
      "43798  0.010060  0.264706  0.262295  0.781818  0.333333  0.413996  0.000000  0.0\n",
      "43799  0.008048  0.264706  0.245902  0.781818  0.333333  0.420866  0.000000  0.0\n",
      "\n",
      "[43800 rows x 8 columns],               0         1         2         3         4         5         6    7\n",
      "0      0.129779  0.352941  0.245902  0.527273  0.666667  0.002290  0.000000  0.0\n",
      "1      0.148893  0.367647  0.245902  0.527273  0.666667  0.003811  0.000000  0.0\n",
      "2      0.159960  0.426471  0.229508  0.545454  0.666667  0.005332  0.000000  0.0\n",
      "3      0.182093  0.485294  0.229508  0.563637  0.666667  0.008391  0.037037  0.0\n",
      "4      0.138833  0.485294  0.229508  0.563637  0.666667  0.009912  0.074074  0.0\n",
      "...         ...       ...       ...       ...       ...       ...       ...  ...\n",
      "43795  0.008048  0.250000  0.278689  0.781818  0.333333  0.395659  0.000000  0.0\n",
      "43796  0.010060  0.264706  0.262295  0.781818  0.333333  0.405588  0.000000  0.0\n",
      "43797  0.010060  0.264706  0.262295  0.781818  0.333333  0.413996  0.000000  0.0\n",
      "43798  0.008048  0.264706  0.245902  0.781818  0.333333  0.420866  0.000000  0.0\n",
      "43799  0.012072  0.279412  0.262295  0.781818  0.333333  0.426216  0.000000  0.0\n",
      "\n",
      "[43800 rows x 8 columns]]\n",
      "[              0         1         2         3         4         5         6    7\n",
      "0           NaN       NaN       NaN       NaN       NaN       NaN       NaN  NaN\n",
      "1      0.129779  0.352941  0.245902  0.527273  0.666667  0.002290  0.000000  0.0\n",
      "2      0.148893  0.367647  0.245902  0.527273  0.666667  0.003811  0.000000  0.0\n",
      "3      0.159960  0.426471  0.229508  0.545454  0.666667  0.005332  0.000000  0.0\n",
      "4      0.182093  0.485294  0.229508  0.563637  0.666667  0.008391  0.037037  0.0\n",
      "...         ...       ...       ...       ...       ...       ...       ...  ...\n",
      "43795  0.010060  0.264706  0.278689  0.763638  0.333333  0.385730  0.000000  0.0\n",
      "43796  0.008048  0.250000  0.278689  0.781818  0.333333  0.395659  0.000000  0.0\n",
      "43797  0.010060  0.264706  0.262295  0.781818  0.333333  0.405588  0.000000  0.0\n",
      "43798  0.010060  0.264706  0.262295  0.781818  0.333333  0.413996  0.000000  0.0\n",
      "43799  0.008048  0.264706  0.245902  0.781818  0.333333  0.420866  0.000000  0.0\n",
      "\n",
      "[43800 rows x 8 columns],               0         1         2         3         4         5         6    7\n",
      "0      0.129779  0.352941  0.245902  0.527273  0.666667  0.002290  0.000000  0.0\n",
      "1      0.148893  0.367647  0.245902  0.527273  0.666667  0.003811  0.000000  0.0\n",
      "2      0.159960  0.426471  0.229508  0.545454  0.666667  0.005332  0.000000  0.0\n",
      "3      0.182093  0.485294  0.229508  0.563637  0.666667  0.008391  0.037037  0.0\n",
      "4      0.138833  0.485294  0.229508  0.563637  0.666667  0.009912  0.074074  0.0\n",
      "...         ...       ...       ...       ...       ...       ...       ...  ...\n",
      "43795  0.008048  0.250000  0.278689  0.781818  0.333333  0.395659  0.000000  0.0\n",
      "43796  0.010060  0.264706  0.262295  0.781818  0.333333  0.405588  0.000000  0.0\n",
      "43797  0.010060  0.264706  0.262295  0.781818  0.333333  0.413996  0.000000  0.0\n",
      "43798  0.008048  0.264706  0.245902  0.781818  0.333333  0.420866  0.000000  0.0\n",
      "43799  0.012072  0.279412  0.262295  0.781818  0.333333  0.426216  0.000000  0.0\n",
      "\n",
      "[43800 rows x 8 columns]]\n"
     ]
    }
   ],
   "execution_count": 66
  },
  {
   "metadata": {
    "ExecuteTime": {
     "end_time": "2024-05-29T09:06:59.402783Z",
     "start_time": "2024-05-29T09:06:59.373784Z"
    }
   },
   "cell_type": "code",
   "source": [
    "agg = concat(clos, axis=1) # 将clos中的数据连接起来\n",
    "print(agg.head())\n",
    "agg.columns = names # 设置列名\n",
    "print(agg.head())\n",
    "if dropnan: # 如果dropnan为True\n",
    "    agg.dropna(inplace=True) # 删除含有缺失值的行\n",
    "    print(agg.head())"
   ],
   "id": "d66e09863bb51001",
   "outputs": [
    {
     "name": "stdout",
     "output_type": "stream",
     "text": [
      "          0         1         2         3         4         5         6    7         0         1         2         3         4         5         6    7\n",
      "0       NaN       NaN       NaN       NaN       NaN       NaN       NaN  NaN  0.129779  0.352941  0.245902  0.527273  0.666667  0.002290  0.000000  0.0\n",
      "1  0.129779  0.352941  0.245902  0.527273  0.666667  0.002290  0.000000  0.0  0.148893  0.367647  0.245902  0.527273  0.666667  0.003811  0.000000  0.0\n",
      "2  0.148893  0.367647  0.245902  0.527273  0.666667  0.003811  0.000000  0.0  0.159960  0.426471  0.229508  0.545454  0.666667  0.005332  0.000000  0.0\n",
      "3  0.159960  0.426471  0.229508  0.545454  0.666667  0.005332  0.000000  0.0  0.182093  0.485294  0.229508  0.563637  0.666667  0.008391  0.037037  0.0\n",
      "4  0.182093  0.485294  0.229508  0.563637  0.666667  0.008391  0.037037  0.0  0.138833  0.485294  0.229508  0.563637  0.666667  0.009912  0.074074  0.0\n",
      "   var1(t-1)  var2(t-1)  var3(t-1)  var4(t-1)  var5(t-1)  var6(t-1)  var7(t-1)  var8(t-1)   var1(t)   var2(t)   var3(t)   var4(t)   var5(t)   var6(t)   var7(t)  var8(t)\n",
      "0        NaN        NaN        NaN        NaN        NaN        NaN        NaN        NaN  0.129779  0.352941  0.245902  0.527273  0.666667  0.002290  0.000000      0.0\n",
      "1   0.129779   0.352941   0.245902   0.527273   0.666667   0.002290   0.000000        0.0  0.148893  0.367647  0.245902  0.527273  0.666667  0.003811  0.000000      0.0\n",
      "2   0.148893   0.367647   0.245902   0.527273   0.666667   0.003811   0.000000        0.0  0.159960  0.426471  0.229508  0.545454  0.666667  0.005332  0.000000      0.0\n",
      "3   0.159960   0.426471   0.229508   0.545454   0.666667   0.005332   0.000000        0.0  0.182093  0.485294  0.229508  0.563637  0.666667  0.008391  0.037037      0.0\n",
      "4   0.182093   0.485294   0.229508   0.563637   0.666667   0.008391   0.037037        0.0  0.138833  0.485294  0.229508  0.563637  0.666667  0.009912  0.074074      0.0\n",
      "   var1(t-1)  var2(t-1)  var3(t-1)  var4(t-1)  var5(t-1)  var6(t-1)  var7(t-1)  var8(t-1)   var1(t)   var2(t)   var3(t)   var4(t)   var5(t)   var6(t)   var7(t)  var8(t)\n",
      "1   0.129779   0.352941   0.245902   0.527273   0.666667   0.002290   0.000000        0.0  0.148893  0.367647  0.245902  0.527273  0.666667  0.003811  0.000000      0.0\n",
      "2   0.148893   0.367647   0.245902   0.527273   0.666667   0.003811   0.000000        0.0  0.159960  0.426471  0.229508  0.545454  0.666667  0.005332  0.000000      0.0\n",
      "3   0.159960   0.426471   0.229508   0.545454   0.666667   0.005332   0.000000        0.0  0.182093  0.485294  0.229508  0.563637  0.666667  0.008391  0.037037      0.0\n",
      "4   0.182093   0.485294   0.229508   0.563637   0.666667   0.008391   0.037037        0.0  0.138833  0.485294  0.229508  0.563637  0.666667  0.009912  0.074074      0.0\n",
      "5   0.138833   0.485294   0.229508   0.563637   0.666667   0.009912   0.074074        0.0  0.109658  0.485294  0.213115  0.563637  0.666667  0.011433  0.111111      0.0\n"
     ]
    }
   ],
   "execution_count": 67
  },
  {
   "metadata": {
    "ExecuteTime": {
     "end_time": "2024-05-29T09:06:59.418799Z",
     "start_time": "2024-05-29T09:06:59.405786Z"
    }
   },
   "cell_type": "code",
   "source": [
    "agg.drop(agg.columns[[9, 10, 11, 12, 13, 14, 15]], axis=1, inplace=True) # 删除不需要的列\n",
    "print(agg.head())"
   ],
   "id": "d880212962ea76",
   "outputs": [
    {
     "name": "stdout",
     "output_type": "stream",
     "text": [
      "   var1(t-1)  var2(t-1)  var3(t-1)  var4(t-1)  var5(t-1)  var6(t-1)  var7(t-1)  var8(t-1)   var1(t)\n",
      "1   0.129779   0.352941   0.245902   0.527273   0.666667   0.002290   0.000000        0.0  0.148893\n",
      "2   0.148893   0.367647   0.245902   0.527273   0.666667   0.003811   0.000000        0.0  0.159960\n",
      "3   0.159960   0.426471   0.229508   0.545454   0.666667   0.005332   0.000000        0.0  0.182093\n",
      "4   0.182093   0.485294   0.229508   0.563637   0.666667   0.008391   0.037037        0.0  0.138833\n",
      "5   0.138833   0.485294   0.229508   0.563637   0.666667   0.009912   0.074074        0.0  0.109658\n"
     ]
    }
   ],
   "execution_count": 68
  },
  {
   "metadata": {
    "ExecuteTime": {
     "end_time": "2024-05-29T09:06:59.434800Z",
     "start_time": "2024-05-29T09:06:59.420783Z"
    }
   },
   "cell_type": "code",
   "source": [
    "values = agg.values # 将agg转换为numpy数组\n",
    "print(values)"
   ],
   "id": "b4030b61e990c018",
   "outputs": [
    {
     "name": "stdout",
     "output_type": "stream",
     "text": [
      "[[0.12977867 0.35294122 0.24590163 ... 0.         0.         0.14889336]\n",
      " [0.14889336 0.36764708 0.24590163 ... 0.         0.         0.15995975]\n",
      " [0.15995975 0.4264706  0.22950819 ... 0.         0.         0.18209255]\n",
      " ...\n",
      " [0.01006036 0.2647059  0.26229507 ... 0.         0.         0.01006036]\n",
      " [0.01006036 0.2647059  0.26229507 ... 0.         0.         0.00804829]\n",
      " [0.00804829 0.2647059  0.24590163 ... 0.         0.         0.01207243]]\n"
     ]
    }
   ],
   "execution_count": 69
  },
  {
   "metadata": {
    "ExecuteTime": {
     "end_time": "2024-05-29T09:06:59.450799Z",
     "start_time": "2024-05-29T09:06:59.438785Z"
    }
   },
   "cell_type": "code",
   "source": [
    "n_train_hours = 365 * 24\n",
    "train = values[:n_train_hours, :] # 创建一个训练集\n",
    "test = values[n_train_hours:, :] # 创建一个测试集\n",
    "print(train.shape, test.shape)"
   ],
   "id": "1d13e93e6a03be8b",
   "outputs": [
    {
     "name": "stdout",
     "output_type": "stream",
     "text": [
      "(8760, 9) (35039, 9)\n"
     ]
    }
   ],
   "execution_count": 70
  },
  {
   "metadata": {
    "ExecuteTime": {
     "end_time": "2024-05-29T09:06:59.466798Z",
     "start_time": "2024-05-29T09:06:59.452784Z"
    }
   },
   "cell_type": "code",
   "source": [
    "train_X, train_y = train[:, :-1], train[:, -1] # 创建一个训练集的特征和标签\n",
    "test_X, test_y = test[:, :-1], test[:, -1] # 创建一个测试集的特征和标签\n",
    "print(train_X.shape, len(train_X))"
   ],
   "id": "742513a6cf7432d1",
   "outputs": [
    {
     "name": "stdout",
     "output_type": "stream",
     "text": [
      "(8760, 8) 8760\n"
     ]
    }
   ],
   "execution_count": 71
  },
  {
   "metadata": {
    "ExecuteTime": {
     "end_time": "2024-05-29T09:06:59.482785Z",
     "start_time": "2024-05-29T09:06:59.469786Z"
    }
   },
   "cell_type": "code",
   "source": [
    "train_X = train_X.reshape((train_X.shape[0], 1, train_X.shape[1])) # 将训练集的特征转换为三维数组\n",
    "test_X = test_X.reshape((test_X.shape[0], 1, test_X.shape[1])) # 将测试集的特征转换为三维数组\n",
    "print(train_X.shape, test_X.shape)"
   ],
   "id": "50f29424e4886448",
   "outputs": [
    {
     "name": "stdout",
     "output_type": "stream",
     "text": [
      "(8760, 1, 8) (35039, 1, 8)\n"
     ]
    }
   ],
   "execution_count": 72
  },
  {
   "metadata": {
    "ExecuteTime": {
     "end_time": "2024-05-29T09:07:44.126458Z",
     "start_time": "2024-05-29T09:06:59.484784Z"
    }
   },
   "cell_type": "code",
   "source": [
    "from keras.src.layers import LSTM, Dense\n",
    "from keras import Sequential\n",
    "\n",
    "model = Sequential() # 创建一个Sequential模型\n",
    "# model.add(LSTM(50, activation='relu', input_shape=(train_X.shape[1], train_X.shape[2]))) # 添加一个LSTM层\n",
    "model.add(LSTM(50, input_shape=(train_X.shape[1], train_X.shape[2]))) # 添加一个LSTM层\n",
    "# model.add(LSTM(50, activation='relu', input_shape=(train_X.shape[1], train_X.shape[2]))) # 添加一个LSTM层\n",
    "\n",
    "model.add(Dense(1)) # 添加一个全连接层\n",
    "\n",
    "model.compile(optimizer='adam', loss='mse') # 编译模型\n",
    "\n",
    "history = model.fit(train_X, train_y, epochs=50, batch_size=72, verbose=2, validation_data=(test_X, test_y), shuffle=False) # 训练模型\n",
    "\n",
    "pyplot.plot(history.history['loss'], label='train') # 绘制训练集的损失曲线\n",
    "pyplot.plot(history.history['val_loss'], label='test') # 绘制测试集的损失曲线\n",
    "pyplot.legend() # 显示图例\n",
    "pyplot.show() # 显示图形"
   ],
   "id": "db1f21f561e8e38d",
   "outputs": [
    {
     "name": "stdout",
     "output_type": "stream",
     "text": [
      "Epoch 1/50\n",
      "122/122 - 3s - loss: 0.0071 - val_loss: 0.0068 - 3s/epoch - 23ms/step\n",
      "Epoch 2/50\n",
      "122/122 - 1s - loss: 0.0038 - val_loss: 0.0077 - 647ms/epoch - 5ms/step\n",
      "Epoch 3/50\n",
      "122/122 - 1s - loss: 0.0020 - val_loss: 0.0080 - 714ms/epoch - 6ms/step\n",
      "Epoch 4/50\n",
      "122/122 - 1s - loss: 0.0013 - val_loss: 0.0069 - 828ms/epoch - 7ms/step\n",
      "Epoch 5/50\n",
      "122/122 - 1s - loss: 0.0012 - val_loss: 0.0055 - 622ms/epoch - 5ms/step\n",
      "Epoch 6/50\n",
      "122/122 - 1s - loss: 0.0011 - val_loss: 0.0044 - 654ms/epoch - 5ms/step\n",
      "Epoch 7/50\n",
      "122/122 - 1s - loss: 0.0010 - val_loss: 0.0037 - 642ms/epoch - 5ms/step\n",
      "Epoch 8/50\n",
      "122/122 - 1s - loss: 0.0010 - val_loss: 0.0032 - 600ms/epoch - 5ms/step\n",
      "Epoch 9/50\n",
      "122/122 - 1s - loss: 9.9574e-04 - val_loss: 0.0029 - 682ms/epoch - 6ms/step\n",
      "Epoch 10/50\n",
      "122/122 - 1s - loss: 9.8682e-04 - val_loss: 0.0027 - 838ms/epoch - 7ms/step\n",
      "Epoch 11/50\n",
      "122/122 - 1s - loss: 9.8093e-04 - val_loss: 0.0026 - 715ms/epoch - 6ms/step\n",
      "Epoch 12/50\n",
      "122/122 - 1s - loss: 9.7691e-04 - val_loss: 0.0025 - 649ms/epoch - 5ms/step\n",
      "Epoch 13/50\n",
      "122/122 - 1s - loss: 9.7406e-04 - val_loss: 0.0023 - 806ms/epoch - 7ms/step\n",
      "Epoch 14/50\n",
      "122/122 - 1s - loss: 9.7194e-04 - val_loss: 0.0022 - 605ms/epoch - 5ms/step\n",
      "Epoch 15/50\n",
      "122/122 - 1s - loss: 9.7023e-04 - val_loss: 0.0021 - 711ms/epoch - 6ms/step\n",
      "Epoch 16/50\n",
      "122/122 - 1s - loss: 9.6873e-04 - val_loss: 0.0020 - 843ms/epoch - 7ms/step\n",
      "Epoch 17/50\n",
      "122/122 - 1s - loss: 9.6732e-04 - val_loss: 0.0019 - 796ms/epoch - 7ms/step\n",
      "Epoch 18/50\n",
      "122/122 - 1s - loss: 9.6596e-04 - val_loss: 0.0018 - 704ms/epoch - 6ms/step\n",
      "Epoch 19/50\n",
      "122/122 - 1s - loss: 9.6469e-04 - val_loss: 0.0017 - 712ms/epoch - 6ms/step\n",
      "Epoch 20/50\n",
      "122/122 - 1s - loss: 9.6358e-04 - val_loss: 0.0016 - 709ms/epoch - 6ms/step\n",
      "Epoch 21/50\n",
      "122/122 - 1s - loss: 9.6265e-04 - val_loss: 0.0016 - 755ms/epoch - 6ms/step\n",
      "Epoch 22/50\n",
      "122/122 - 1s - loss: 9.6193e-04 - val_loss: 0.0015 - 909ms/epoch - 7ms/step\n",
      "Epoch 23/50\n",
      "122/122 - 1s - loss: 9.6139e-04 - val_loss: 0.0014 - 842ms/epoch - 7ms/step\n",
      "Epoch 24/50\n",
      "122/122 - 1s - loss: 9.6100e-04 - val_loss: 0.0014 - 759ms/epoch - 6ms/step\n",
      "Epoch 25/50\n",
      "122/122 - 1s - loss: 9.6070e-04 - val_loss: 0.0014 - 695ms/epoch - 6ms/step\n",
      "Epoch 26/50\n",
      "122/122 - 1s - loss: 9.6047e-04 - val_loss: 0.0013 - 695ms/epoch - 6ms/step\n",
      "Epoch 27/50\n",
      "122/122 - 1s - loss: 9.6027e-04 - val_loss: 0.0013 - 836ms/epoch - 7ms/step\n",
      "Epoch 28/50\n",
      "122/122 - 1s - loss: 9.6009e-04 - val_loss: 0.0013 - 870ms/epoch - 7ms/step\n",
      "Epoch 29/50\n",
      "122/122 - 1s - loss: 9.5991e-04 - val_loss: 0.0012 - 712ms/epoch - 6ms/step\n",
      "Epoch 30/50\n",
      "122/122 - 1s - loss: 9.5971e-04 - val_loss: 0.0012 - 787ms/epoch - 6ms/step\n",
      "Epoch 31/50\n",
      "122/122 - 1s - loss: 9.5948e-04 - val_loss: 0.0012 - 804ms/epoch - 7ms/step\n",
      "Epoch 32/50\n",
      "122/122 - 1s - loss: 9.5921e-04 - val_loss: 0.0012 - 772ms/epoch - 6ms/step\n",
      "Epoch 33/50\n",
      "122/122 - 1s - loss: 9.5890e-04 - val_loss: 0.0012 - 753ms/epoch - 6ms/step\n",
      "Epoch 34/50\n",
      "122/122 - 1s - loss: 9.5858e-04 - val_loss: 0.0012 - 758ms/epoch - 6ms/step\n",
      "Epoch 35/50\n",
      "122/122 - 1s - loss: 9.5823e-04 - val_loss: 0.0012 - 741ms/epoch - 6ms/step\n",
      "Epoch 36/50\n",
      "122/122 - 1s - loss: 9.5787e-04 - val_loss: 0.0011 - 734ms/epoch - 6ms/step\n",
      "Epoch 37/50\n",
      "122/122 - 1s - loss: 9.5750e-04 - val_loss: 0.0011 - 699ms/epoch - 6ms/step\n",
      "Epoch 38/50\n",
      "122/122 - 1s - loss: 9.5713e-04 - val_loss: 0.0011 - 760ms/epoch - 6ms/step\n",
      "Epoch 39/50\n",
      "122/122 - 1s - loss: 9.5675e-04 - val_loss: 0.0011 - 659ms/epoch - 5ms/step\n",
      "Epoch 40/50\n",
      "122/122 - 1s - loss: 9.5638e-04 - val_loss: 0.0011 - 736ms/epoch - 6ms/step\n",
      "Epoch 41/50\n",
      "122/122 - 1s - loss: 9.5601e-04 - val_loss: 0.0011 - 616ms/epoch - 5ms/step\n",
      "Epoch 42/50\n",
      "122/122 - 1s - loss: 9.5566e-04 - val_loss: 0.0011 - 609ms/epoch - 5ms/step\n",
      "Epoch 43/50\n",
      "122/122 - 1s - loss: 9.5531e-04 - val_loss: 0.0011 - 1s/epoch - 9ms/step\n",
      "Epoch 44/50\n",
      "122/122 - 1s - loss: 9.5497e-04 - val_loss: 0.0011 - 1s/epoch - 11ms/step\n",
      "Epoch 45/50\n",
      "122/122 - 1s - loss: 9.5464e-04 - val_loss: 0.0011 - 1s/epoch - 11ms/step\n",
      "Epoch 46/50\n",
      "122/122 - 2s - loss: 9.5433e-04 - val_loss: 0.0011 - 2s/epoch - 15ms/step\n",
      "Epoch 47/50\n",
      "122/122 - 2s - loss: 9.5403e-04 - val_loss: 0.0011 - 2s/epoch - 13ms/step\n",
      "Epoch 48/50\n",
      "122/122 - 2s - loss: 9.5374e-04 - val_loss: 0.0011 - 2s/epoch - 14ms/step\n",
      "Epoch 49/50\n",
      "122/122 - 2s - loss: 9.5346e-04 - val_loss: 0.0011 - 2s/epoch - 13ms/step\n",
      "Epoch 50/50\n",
      "122/122 - 1s - loss: 9.5319e-04 - val_loss: 0.0011 - 848ms/epoch - 7ms/step\n"
     ]
    },
    {
     "data": {
      "text/plain": [
       "<Figure size 640x480 with 1 Axes>"
      ],
      "image/png": "[encoded data removed]"
     },
     "metadata": {},
     "output_type": "display_data"
    }
   ],
   "execution_count": 73
  },
  {
   "metadata": {},
   "cell_type": "markdown",
   "source": "## 预测(一天预测一天)",
   "id": "c743110d2e73219b"
  },
  {
   "metadata": {
    "ExecuteTime": {
     "end_time": "2024-05-29T09:09:44.374473Z",
     "start_time": "2024-05-29T09:09:42.741142Z"
    }
   },
   "cell_type": "code",
   "source": [
    "yhat_test = model.predict(test_X) # 预测测试集的结果\n",
    "print(yhat_test[:10, :])\n",
    "\n",
    "print(test_X[0:6, :])"
   ],
   "id": "3e31b291970272dc",
   "outputs": [
    {
     "name": "stdout",
     "output_type": "stream",
     "text": [
      "1095/1095 [==============================] - 1s 1ms/step\n",
      "[[0.0322089 ]\n",
      " [0.03159105]\n",
      " [0.02111293]\n",
      " [0.01697933]\n",
      " [0.01950288]\n",
      " [0.01800634]\n",
      " [0.01243127]\n",
      " [0.01573312]\n",
      " [0.0227061 ]\n",
      " [0.0221218 ]]\n",
      "[[[0.0362173  0.33823532 0.1967213  0.83636475 0.33333334 0.12757413\n",
      "   0.         0.        ]]\n",
      "\n",
      " [[0.03118712 0.33823532 0.1967213  0.83636475 0.         0.006101\n",
      "   0.         0.        ]]\n",
      "\n",
      " [[0.02012072 0.33823532 0.1967213  0.83636475 0.         0.0145091\n",
      "   0.         0.        ]]\n",
      "\n",
      " [[0.01911469 0.32352942 0.18032786 0.83636475 0.33333334 0.006101\n",
      "   0.         0.        ]]\n",
      "\n",
      " [[0.01810865 0.32352942 0.18032786 0.83636475 0.         0.006101\n",
      "   0.         0.        ]]\n",
      "\n",
      " [[0.01710262 0.32352942 0.1967213  0.83636475 0.         0.01297103\n",
      "   0.         0.        ]]]\n"
     ]
    }
   ],
   "execution_count": 77
  },
  {
   "metadata": {
    "ExecuteTime": {
     "end_time": "2024-05-29T09:10:18.723669Z",
     "start_time": "2024-05-29T09:10:18.700545Z"
    }
   },
   "cell_type": "code",
   "source": [
    "from numpy import concatenate\n",
    "\n",
    "test_X = test_X.reshape((test_X.shape[0], test_X.shape[2])) # 将测试集的特征转换为二维数组\n",
    "inv_yhat = concatenate((yhat_test, test_X[:, 1:]), axis=1) # 将预测结果拼接起来\n",
    "inv_yhat = scaler.inverse_transform(inv_yhat) # 将预测结果还原成原始值\n",
    "inv_yhat = inv_yhat[:, 0] # 获取预测值\n",
    "print(inv_yhat)"
   ],
   "id": "a85cc0f7983cb64",
   "outputs": [
    {
     "name": "stdout",
     "output_type": "stream",
     "text": [
      "[32.015648  31.401508  20.986252  ...  4.7611775  4.7878184  3.3710732]\n"
     ]
    }
   ],
   "execution_count": 79
  },
  {
   "metadata": {
    "ExecuteTime": {
     "end_time": "2024-05-29T09:10:22.797585Z",
     "start_time": "2024-05-29T09:10:22.778304Z"
    }
   },
   "cell_type": "code",
   "source": [
    "test_y = test_y.reshape((len(test_y), 1)) # 将测试集的标签转换为二维数组\n",
    "inv_y = concatenate((test_y, test_X[:, 1:]), axis=1) # 将真实值拼接起来\n",
    "inv_y = scaler.inverse_transform(inv_y) # 将真实值还原成原始值\n",
    "inv_y = inv_y[:, 0] # 获取真实值\n",
    "print(inv_y)"
   ],
   "id": "d197cf63c150a8fb",
   "outputs": [
    {
     "name": "stdout",
     "output_type": "stream",
     "text": [
      "[31. 20. 19. ... 10.  8. 12.]\n"
     ]
    }
   ],
   "execution_count": 80
  },
  {
   "metadata": {
    "ExecuteTime": {
     "end_time": "2024-05-29T09:10:31.534243Z",
     "start_time": "2024-05-29T09:10:31.511245Z"
    }
   },
   "cell_type": "code",
   "source": [
    "import numpy as np\n",
    "from sklearn.metrics import mean_squared_error\n",
    "\n",
    "rmse = np.sqrt(mean_squared_error(inv_y, inv_yhat)) # 计算均方根误差\n",
    "print('Test RMSE: %.3f' % rmse)"
   ],
   "id": "4b2eb6ede301ee45",
   "outputs": [
    {
     "name": "stdout",
     "output_type": "stream",
     "text": [
      "Test RMSE: 32.637\n"
     ]
    }
   ],
   "execution_count": 81
  },
  {
   "metadata": {
    "ExecuteTime": {
     "end_time": "2024-05-29T09:10:34.342363Z",
     "start_time": "2024-05-29T09:10:34.114346Z"
    }
   },
   "cell_type": "code",
   "source": [
    "import matplotlib.pyplot as plt\n",
    "\n",
    "# 绘制预测结果和真实值的对比图\n",
    "plt.plot(inv_y, color='blue', label='real')\n",
    "plt.plot(inv_yhat, color='red', label='predicted')\n",
    "plt.legend()\n",
    "plt.show()"
   ],
   "id": "d859d2c4a0850e2e",
   "outputs": [
    {
     "data": {
      "text/plain": [
       "<Figure size 640x480 with 1 Axes>"
      ],
      "image/png": "[encoded data removed]"
     },
     "metadata": {},
     "output_type": "display_data"
    }
   ],
   "execution_count": 82
  },
  {
   "metadata": {},
   "cell_type": "code",
   "source": "",
   "id": "aa26e0619d20a377",
   "outputs": [],
   "execution_count": null
  }
 ],
 "metadata": {
  "kernelspec": {
   "display_name": "Python 3",
   "language": "python",
   "name": "python3"
  },
  "language_info": {
   "codemirror_mode": {
    "name": "ipython",
    "version": 2
   },
   "file_extension": ".py",
   "mimetype": "text/x-python",
   "name": "python",
   "nbconvert_exporter": "python",
   "pygments_lexer": "ipython2",
   "version": "2.7.6"
  }
 },
 "nbformat": 4,
 "nbformat_minor": 5
}
